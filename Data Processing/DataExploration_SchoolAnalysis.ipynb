{
 "cells": [
  {
   "cell_type": "markdown",
   "metadata": {},
   "source": [
    "# Problem statement:\n",
    "Suppose you are a public school admin. Some schools in your state of Tennessee are performing below average academically. Your superintendent under pressure from frustrated parents annd voters approached you with task of understanding why these schoolds are under performing. \n",
    "To improve school performance, you need to learn more about these schools and their students\n",
    "\n",
    "# Objective:\n",
    "Perform exploratory data analysis which includes determining the type of data correlation analysis.\n",
    "1. Read Data from file\n",
    "2. Describe the data to find more details.\n",
    "3. Find the correlation between 'reduced lunch' and 'school rating' \n"
   ]
  },
  {
   "cell_type": "code",
   "execution_count": 15,
   "metadata": {},
   "outputs": [
    {
     "name": "stdout",
     "output_type": "stream",
     "text": [
      "<class 'pandas.core.frame.DataFrame'>\n",
      "RangeIndex: 347 entries, 0 to 346\n",
      "Data columns (total 15 columns):\n",
      " #   Column               Non-Null Count  Dtype  \n",
      "---  ------               --------------  -----  \n",
      " 0   name                 347 non-null    object \n",
      " 1   school_rating        347 non-null    float64\n",
      " 2   size                 347 non-null    float64\n",
      " 3   reduced_lunch        347 non-null    float64\n",
      " 4   state_percentile_16  347 non-null    float64\n",
      " 5   state_percentile_15  341 non-null    float64\n",
      " 6   stu_teach_ratio      347 non-null    float64\n",
      " 7   school_type          347 non-null    object \n",
      " 8   avg_score_15         341 non-null    float64\n",
      " 9   avg_score_16         347 non-null    float64\n",
      " 10  full_time_teachers   347 non-null    float64\n",
      " 11  percent_black        347 non-null    float64\n",
      " 12  percent_white        347 non-null    float64\n",
      " 13  percent_asian        347 non-null    float64\n",
      " 14  percent_hispanic     347 non-null    float64\n",
      "dtypes: float64(13), object(2)\n",
      "memory usage: 40.8+ KB\n"
     ]
    }
   ],
   "source": [
    "import pandas as pd\n",
    "#df = pd.readf = pd.read_csv(\"middle_tn_schools.csv\")\n",
    "#df.describe()\n",
    "df = pd.read_csv('middle_tn_schools.csv')\n",
    "df.info()"
   ]
  },
  {
   "cell_type": "markdown",
   "metadata": {},
   "source": [
    "# Data Exploration\n",
    "1. Dimentionality Check\n",
    "2. Types of Dataset\n",
    "3. Slicing and Indexing\n",
    "4. Identifying unique elements\n",
    "5. Value Extraction\n",
    "6. Feature Mean\n",
    "7. Feature Median\n",
    "8. Feature Mode"
   ]
  },
  {
   "cell_type": "code",
   "execution_count": 18,
   "metadata": {},
   "outputs": [
    {
     "data": {
      "text/plain": [
       "(347, 15)"
      ]
     },
     "execution_count": 18,
     "metadata": {},
     "output_type": "execute_result"
    }
   ],
   "source": [
    "# Dimentionality Check\n",
    "df.shape\n",
    "#df.describe()"
   ]
  },
  {
   "cell_type": "code",
   "execution_count": 23,
   "metadata": {},
   "outputs": [
    {
     "data": {
      "text/plain": [
       "name                   False\n",
       "school_rating          False\n",
       "size                   False\n",
       "reduced_lunch          False\n",
       "state_percentile_16    False\n",
       "state_percentile_15     True\n",
       "stu_teach_ratio        False\n",
       "school_type            False\n",
       "avg_score_15            True\n",
       "avg_score_16           False\n",
       "full_time_teachers     False\n",
       "percent_black          False\n",
       "percent_white          False\n",
       "percent_asian          False\n",
       "percent_hispanic       False\n",
       "dtype: bool"
      ]
     },
     "execution_count": 23,
     "metadata": {},
     "output_type": "execute_result"
    }
   ],
   "source": [
    "# Types of Dataset\n",
    "df.dtypes\n",
    "#df.isnull().any()\n",
    "df.isna().any()"
   ]
  },
  {
   "cell_type": "code",
   "execution_count": 37,
   "metadata": {},
   "outputs": [
    {
     "data": {
      "text/plain": [
       "(0, 15)"
      ]
     },
     "execution_count": 37,
     "metadata": {},
     "output_type": "execute_result"
    }
   ],
   "source": [
    "# Identifying unique elements\n",
    "#len(df['name'].unique())\n",
    "#len(df['name'])\n",
    "duplicate = df[df.duplicated()]\n",
    "duplicate.shape"
   ]
  },
  {
   "cell_type": "code",
   "execution_count": 84,
   "metadata": {},
   "outputs": [
    {
     "data": {
      "text/html": [
       "<div>\n",
       "<style scoped>\n",
       "    .dataframe tbody tr th:only-of-type {\n",
       "        vertical-align: middle;\n",
       "    }\n",
       "\n",
       "    .dataframe tbody tr th {\n",
       "        vertical-align: top;\n",
       "    }\n",
       "\n",
       "    .dataframe thead tr th {\n",
       "        text-align: left;\n",
       "    }\n",
       "\n",
       "    .dataframe thead tr:last-of-type th {\n",
       "        text-align: right;\n",
       "    }\n",
       "</style>\n",
       "<table border=\"1\" class=\"dataframe\">\n",
       "  <thead>\n",
       "    <tr>\n",
       "      <th></th>\n",
       "      <th></th>\n",
       "      <th colspan=\"8\" halign=\"left\">reduced_lunch</th>\n",
       "    </tr>\n",
       "    <tr>\n",
       "      <th></th>\n",
       "      <th></th>\n",
       "      <th>count</th>\n",
       "      <th>mean</th>\n",
       "      <th>std</th>\n",
       "      <th>min</th>\n",
       "      <th>25%</th>\n",
       "      <th>50%</th>\n",
       "      <th>75%</th>\n",
       "      <th>max</th>\n",
       "    </tr>\n",
       "    <tr>\n",
       "      <th>school_rating</th>\n",
       "      <th>school_type</th>\n",
       "      <th></th>\n",
       "      <th></th>\n",
       "      <th></th>\n",
       "      <th></th>\n",
       "      <th></th>\n",
       "      <th></th>\n",
       "      <th></th>\n",
       "      <th></th>\n",
       "    </tr>\n",
       "  </thead>\n",
       "  <tbody>\n",
       "    <tr>\n",
       "      <th rowspan=\"3\" valign=\"top\">0.0</th>\n",
       "      <th>Public</th>\n",
       "      <td>22.0</td>\n",
       "      <td>84.272727</td>\n",
       "      <td>8.902551</td>\n",
       "      <td>66.0</td>\n",
       "      <td>79.25</td>\n",
       "      <td>87.0</td>\n",
       "      <td>90.00</td>\n",
       "      <td>98.0</td>\n",
       "    </tr>\n",
       "    <tr>\n",
       "      <th>Public Charter</th>\n",
       "      <td>1.0</td>\n",
       "      <td>90.000000</td>\n",
       "      <td>NaN</td>\n",
       "      <td>90.0</td>\n",
       "      <td>90.00</td>\n",
       "      <td>90.0</td>\n",
       "      <td>90.00</td>\n",
       "      <td>90.0</td>\n",
       "    </tr>\n",
       "    <tr>\n",
       "      <th>Public Magnet</th>\n",
       "      <td>20.0</td>\n",
       "      <td>82.500000</td>\n",
       "      <td>8.953094</td>\n",
       "      <td>53.0</td>\n",
       "      <td>79.75</td>\n",
       "      <td>84.0</td>\n",
       "      <td>88.25</td>\n",
       "      <td>92.0</td>\n",
       "    </tr>\n",
       "    <tr>\n",
       "      <th rowspan=\"2\" valign=\"top\">1.0</th>\n",
       "      <th>Public</th>\n",
       "      <td>36.0</td>\n",
       "      <td>75.638889</td>\n",
       "      <td>11.469594</td>\n",
       "      <td>54.0</td>\n",
       "      <td>65.75</td>\n",
       "      <td>75.0</td>\n",
       "      <td>85.25</td>\n",
       "      <td>98.0</td>\n",
       "    </tr>\n",
       "    <tr>\n",
       "      <th>Public Magnet</th>\n",
       "      <td>4.0</td>\n",
       "      <td>68.750000</td>\n",
       "      <td>13.073510</td>\n",
       "      <td>53.0</td>\n",
       "      <td>62.00</td>\n",
       "      <td>69.0</td>\n",
       "      <td>75.75</td>\n",
       "      <td>84.0</td>\n",
       "    </tr>\n",
       "    <tr>\n",
       "      <th rowspan=\"3\" valign=\"top\">2.0</th>\n",
       "      <th>Public</th>\n",
       "      <td>42.0</td>\n",
       "      <td>63.738095</td>\n",
       "      <td>11.973669</td>\n",
       "      <td>37.0</td>\n",
       "      <td>54.25</td>\n",
       "      <td>62.0</td>\n",
       "      <td>72.75</td>\n",
       "      <td>88.0</td>\n",
       "    </tr>\n",
       "    <tr>\n",
       "      <th>Public Charter</th>\n",
       "      <td>1.0</td>\n",
       "      <td>77.000000</td>\n",
       "      <td>NaN</td>\n",
       "      <td>77.0</td>\n",
       "      <td>77.00</td>\n",
       "      <td>77.0</td>\n",
       "      <td>77.00</td>\n",
       "      <td>77.0</td>\n",
       "    </tr>\n",
       "    <tr>\n",
       "      <th>Public Magnet</th>\n",
       "      <td>1.0</td>\n",
       "      <td>74.000000</td>\n",
       "      <td>NaN</td>\n",
       "      <td>74.0</td>\n",
       "      <td>74.00</td>\n",
       "      <td>74.0</td>\n",
       "      <td>74.00</td>\n",
       "      <td>74.0</td>\n",
       "    </tr>\n",
       "    <tr>\n",
       "      <th rowspan=\"3\" valign=\"top\">3.0</th>\n",
       "      <th>Public</th>\n",
       "      <td>48.0</td>\n",
       "      <td>51.437500</td>\n",
       "      <td>13.951140</td>\n",
       "      <td>24.0</td>\n",
       "      <td>41.00</td>\n",
       "      <td>50.5</td>\n",
       "      <td>64.00</td>\n",
       "      <td>78.0</td>\n",
       "    </tr>\n",
       "    <tr>\n",
       "      <th>Public Charter</th>\n",
       "      <td>1.0</td>\n",
       "      <td>55.000000</td>\n",
       "      <td>NaN</td>\n",
       "      <td>55.0</td>\n",
       "      <td>55.00</td>\n",
       "      <td>55.0</td>\n",
       "      <td>55.00</td>\n",
       "      <td>55.0</td>\n",
       "    </tr>\n",
       "    <tr>\n",
       "      <th>Public Magnet</th>\n",
       "      <td>7.0</td>\n",
       "      <td>41.714286</td>\n",
       "      <td>7.653197</td>\n",
       "      <td>29.0</td>\n",
       "      <td>38.50</td>\n",
       "      <td>42.0</td>\n",
       "      <td>46.50</td>\n",
       "      <td>51.0</td>\n",
       "    </tr>\n",
       "    <tr>\n",
       "      <th rowspan=\"3\" valign=\"top\">4.0</th>\n",
       "      <th>Public</th>\n",
       "      <td>81.0</td>\n",
       "      <td>39.456790</td>\n",
       "      <td>15.481480</td>\n",
       "      <td>4.0</td>\n",
       "      <td>30.00</td>\n",
       "      <td>40.0</td>\n",
       "      <td>48.00</td>\n",
       "      <td>86.0</td>\n",
       "    </tr>\n",
       "    <tr>\n",
       "      <th>Public Charter</th>\n",
       "      <td>3.0</td>\n",
       "      <td>74.333333</td>\n",
       "      <td>17.009801</td>\n",
       "      <td>55.0</td>\n",
       "      <td>68.00</td>\n",
       "      <td>81.0</td>\n",
       "      <td>84.00</td>\n",
       "      <td>87.0</td>\n",
       "    </tr>\n",
       "    <tr>\n",
       "      <th>Public Magnet</th>\n",
       "      <td>2.0</td>\n",
       "      <td>53.500000</td>\n",
       "      <td>7.778175</td>\n",
       "      <td>48.0</td>\n",
       "      <td>50.75</td>\n",
       "      <td>53.5</td>\n",
       "      <td>56.25</td>\n",
       "      <td>59.0</td>\n",
       "    </tr>\n",
       "    <tr>\n",
       "      <th rowspan=\"4\" valign=\"top\">5.0</th>\n",
       "      <th>Public</th>\n",
       "      <td>63.0</td>\n",
       "      <td>19.047619</td>\n",
       "      <td>14.083196</td>\n",
       "      <td>2.0</td>\n",
       "      <td>7.50</td>\n",
       "      <td>18.0</td>\n",
       "      <td>26.00</td>\n",
       "      <td>56.0</td>\n",
       "    </tr>\n",
       "    <tr>\n",
       "      <th>Public Charter</th>\n",
       "      <td>2.0</td>\n",
       "      <td>84.000000</td>\n",
       "      <td>4.242641</td>\n",
       "      <td>81.0</td>\n",
       "      <td>82.50</td>\n",
       "      <td>84.0</td>\n",
       "      <td>85.50</td>\n",
       "      <td>87.0</td>\n",
       "    </tr>\n",
       "    <tr>\n",
       "      <th>Public Magnet</th>\n",
       "      <td>12.0</td>\n",
       "      <td>24.166667</td>\n",
       "      <td>17.502381</td>\n",
       "      <td>3.0</td>\n",
       "      <td>7.75</td>\n",
       "      <td>24.0</td>\n",
       "      <td>34.00</td>\n",
       "      <td>63.0</td>\n",
       "    </tr>\n",
       "    <tr>\n",
       "      <th>Public Virtual</th>\n",
       "      <td>1.0</td>\n",
       "      <td>27.000000</td>\n",
       "      <td>NaN</td>\n",
       "      <td>27.0</td>\n",
       "      <td>27.00</td>\n",
       "      <td>27.0</td>\n",
       "      <td>27.00</td>\n",
       "      <td>27.0</td>\n",
       "    </tr>\n",
       "  </tbody>\n",
       "</table>\n",
       "</div>"
      ],
      "text/plain": [
       "                             reduced_lunch                                     \\\n",
       "                                     count       mean        std   min    25%   \n",
       "school_rating school_type                                                       \n",
       "0.0           Public                  22.0  84.272727   8.902551  66.0  79.25   \n",
       "              Public Charter           1.0  90.000000        NaN  90.0  90.00   \n",
       "              Public Magnet           20.0  82.500000   8.953094  53.0  79.75   \n",
       "1.0           Public                  36.0  75.638889  11.469594  54.0  65.75   \n",
       "              Public Magnet            4.0  68.750000  13.073510  53.0  62.00   \n",
       "2.0           Public                  42.0  63.738095  11.973669  37.0  54.25   \n",
       "              Public Charter           1.0  77.000000        NaN  77.0  77.00   \n",
       "              Public Magnet            1.0  74.000000        NaN  74.0  74.00   \n",
       "3.0           Public                  48.0  51.437500  13.951140  24.0  41.00   \n",
       "              Public Charter           1.0  55.000000        NaN  55.0  55.00   \n",
       "              Public Magnet            7.0  41.714286   7.653197  29.0  38.50   \n",
       "4.0           Public                  81.0  39.456790  15.481480   4.0  30.00   \n",
       "              Public Charter           3.0  74.333333  17.009801  55.0  68.00   \n",
       "              Public Magnet            2.0  53.500000   7.778175  48.0  50.75   \n",
       "5.0           Public                  63.0  19.047619  14.083196   2.0   7.50   \n",
       "              Public Charter           2.0  84.000000   4.242641  81.0  82.50   \n",
       "              Public Magnet           12.0  24.166667  17.502381   3.0   7.75   \n",
       "              Public Virtual           1.0  27.000000        NaN  27.0  27.00   \n",
       "\n",
       "                                                 \n",
       "                               50%    75%   max  \n",
       "school_rating school_type                        \n",
       "0.0           Public          87.0  90.00  98.0  \n",
       "              Public Charter  90.0  90.00  90.0  \n",
       "              Public Magnet   84.0  88.25  92.0  \n",
       "1.0           Public          75.0  85.25  98.0  \n",
       "              Public Magnet   69.0  75.75  84.0  \n",
       "2.0           Public          62.0  72.75  88.0  \n",
       "              Public Charter  77.0  77.00  77.0  \n",
       "              Public Magnet   74.0  74.00  74.0  \n",
       "3.0           Public          50.5  64.00  78.0  \n",
       "              Public Charter  55.0  55.00  55.0  \n",
       "              Public Magnet   42.0  46.50  51.0  \n",
       "4.0           Public          40.0  48.00  86.0  \n",
       "              Public Charter  81.0  84.00  87.0  \n",
       "              Public Magnet   53.5  56.25  59.0  \n",
       "5.0           Public          18.0  26.00  56.0  \n",
       "              Public Charter  84.0  85.50  87.0  \n",
       "              Public Magnet   24.0  34.00  63.0  \n",
       "              Public Virtual  27.0  27.00  27.0  "
      ]
     },
     "execution_count": 84,
     "metadata": {},
     "output_type": "execute_result"
    }
   ],
   "source": [
    "df.values\n",
    "imp_data = df[['school_rating', 'reduced_lunch','school_type']]\n",
    "\n",
    "#correlation  = imp_data.corr()\n",
    "#correlation\n",
    "\n",
    "imp_data.groupby(['school_rating', 'school_type']).describe()#.unstack()\n",
    "\n",
    "\n",
    "#type(imp_data.groupby(['school_rating', 'school_type']))"
   ]
  },
  {
   "cell_type": "code",
   "execution_count": 88,
   "metadata": {},
   "outputs": [
    {
     "data": {
      "text/plain": [
       "0.0         AxesSubplot(0.1,0.679412;0.363636x0.220588)\n",
       "1.0    AxesSubplot(0.536364,0.679412;0.363636x0.220588)\n",
       "2.0         AxesSubplot(0.1,0.414706;0.363636x0.220588)\n",
       "3.0    AxesSubplot(0.536364,0.414706;0.363636x0.220588)\n",
       "4.0             AxesSubplot(0.1,0.15;0.363636x0.220588)\n",
       "5.0        AxesSubplot(0.536364,0.15;0.363636x0.220588)\n",
       "dtype: object"
      ]
     },
     "execution_count": 88,
     "metadata": {},
     "output_type": "execute_result"
    },
    {
     "data": {
      "image/png": "[encoded data removed]",
      "text/plain": [
       "<Figure size 576x720 with 6 Axes>"
      ]
     },
     "metadata": {
      "needs_background": "light"
     },
     "output_type": "display_data"
    }
   ],
   "source": [
    "#Phase 2\n",
    "#df[['reduced_lunch', 'school_rating']].groupby(['school_rating']).describe().unstack()\n",
    "\n",
    "imp_data.groupby(['school_rating']).boxplot(rot=45, fontsize=12, figsize=(8,10))"
   ]
  },
  {
   "cell_type": "code",
   "execution_count": 96,
   "metadata": {},
   "outputs": [
    {
     "data": {
      "text/plain": [
       "<matplotlib.axes._subplots.AxesSubplot at 0xdaea348>"
      ]
     },
     "execution_count": 96,
     "metadata": {},
     "output_type": "execute_result"
    },
    {
     "data": {
      "image/png": "[encoded data removed]",
      "text/plain": [
       "<Figure size 432x288 with 2 Axes>"
      ]
     },
     "metadata": {
      "needs_background": "light"
     },
     "output_type": "display_data"
    }
   ],
   "source": [
    "correlation1 = df[['reduced_lunch', 'school_rating']].corr()\n",
    "\n",
    "#correlation = imp_data.groupby(['school_rating', 'school_type']).corr()\n",
    "correlation2 = df.corr()\n",
    "\n",
    "import matplotlib.pyplot as plt\n",
    "import seaborn as sns\n",
    "\n",
    "sns.heatmap(data=correlation1, square=True, cmap =\"bwr\")"
   ]
  },
  {
   "cell_type": "code",
   "execution_count": null,
   "metadata": {},
   "outputs": [],
   "source": []
  }
 ],
 "metadata": {
  "kernelspec": {
   "display_name": "Python 3",
   "language": "python",
   "name": "python3"
  },
  "language_info": {
   "codemirror_mode": {
    "name": "ipython",
    "version": 3
   },
   "file_extension": ".py",
   "mimetype": "text/x-python",
   "name": "python",
   "nbconvert_exporter": "python",
   "pygments_lexer": "ipython3",
   "version": "3.7.6"
  }
 },
 "nbformat": 4,
 "nbformat_minor": 2
}
